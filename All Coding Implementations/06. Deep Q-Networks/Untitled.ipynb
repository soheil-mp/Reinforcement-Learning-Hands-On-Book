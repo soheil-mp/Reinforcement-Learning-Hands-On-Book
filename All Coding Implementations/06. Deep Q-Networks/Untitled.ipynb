{
 "cells": [
  {
   "cell_type": "code",
   "execution_count": 11,
   "metadata": {},
   "outputs": [
    {
     "name": "stdout",
     "output_type": "stream",
     "text": [
      "Traceback (most recent call last):\r\n",
      "  File \"02. Deep Q-Network (DQN).py\", line 240, in <module>\r\n",
      "    batch = buffer.sample(BATCH_SIZE)\r\n",
      "  File \"02. Deep Q-Network (DQN).py\", line 54, in sample\r\n",
      "    indices = np.random.choice(len(self.buffer), batch_size, replace = False)\r\n",
      "  File \"mtrand.pyx\", line 819, in numpy.random.mtrand.RandomState.choice\r\n",
      "ValueError: Cannot take a larger sample than population when 'replace=False'\r\n"
     ]
    }
   ],
   "source": [
    "!python 02.\\ Deep\\ Q-Network\\ \\(DQN\\).py"
   ]
  },
  {
   "cell_type": "code",
   "execution_count": null,
   "metadata": {},
   "outputs": [],
   "source": []
  }
 ],
 "metadata": {
  "kernelspec": {
   "display_name": "Python 3",
   "language": "python",
   "name": "python3"
  },
  "language_info": {
   "codemirror_mode": {
    "name": "ipython",
    "version": 3
   },
   "file_extension": ".py",
   "mimetype": "text/x-python",
   "name": "python",
   "nbconvert_exporter": "python",
   "pygments_lexer": "ipython3",
   "version": "3.6.5"
  }
 },
 "nbformat": 4,
 "nbformat_minor": 2
}
